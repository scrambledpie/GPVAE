{
 "cells": [
  {
   "cell_type": "code",
   "execution_count": 2,
   "metadata": {},
   "outputs": [],
   "source": [
    "import tensorflow as tf\n",
    "import os\n",
    "from GPVAEmodel import *\n",
    "from utils import *"
   ]
  },
  {
   "cell_type": "markdown",
   "metadata": {},
   "source": [
    "# Restore Model"
   ]
  },
  {
   "cell_type": "code",
   "execution_count": 1,
   "metadata": {},
   "outputs": [],
   "source": [
    "# for SIN model\n",
    "# chkpnt_dir = \"/home/michael/GPVAE_checkpoints/84:__on__9_10_2019__at__19:15:31/\"\n",
    "SIN_chkpnt_dir = \"/run/user/1000/gvfs/sftp:host=godzilla/home/maths/phrnaj/GPVAE_checkpoints/Ayman2/6:SIN_huanan/\"\n",
    "VAE_chkpnt_dir = \"/run/user/1000/gvfs/sftp:host=godzilla/home/maths/phrnaj/GPVAE_checkpoints/Ayman2/71:VAE_huanan/\"\n",
    "trainelbo = \"SIN\""
   ]
  },
  {
   "cell_type": "code",
   "execution_count": null,
   "metadata": {},
   "outputs": [],
   "source": []
  },
  {
   "cell_type": "code",
   "execution_count": 22,
   "metadata": {},
   "outputs": [],
   "source": [
    "pic_folder = chkpnt_dir + \"pics/\"\n",
    "res_file = chkpnt_dir + \"res/ELBO_pandas\"\n",
    "\n",
    "\n",
    "px = 32\n",
    "py = 32\n",
    "r = 3\n",
    "vid_lt = 5\n",
    "model_lt = 5.0\n",
    "\n",
    "# Load test batch from HDD\n",
    "with open(os.getenv(\"HOME\")+\"/GPVAE/Test_Batches.pkl\", \"rb\") as f:\n",
    "    Test_Batches = pickle.load(f)\n",
    "\n",
    "\n",
    "def get_qnet(video, model='SIN'):\n",
    "    \n",
    "    if model=='SIN':\n",
    "        chkpnt_dir = SIN_chkpnt_dir\n",
    "    else:\n",
    "        chkpnt_dir = VAE_chkpnt_dir\n",
    "\n",
    "    # Data settings\n",
    "    batch = video.shape[0]\n",
    "    tmax = video.shape[1]\n",
    "    \n",
    "    # make sure everything is created in the same graph!\n",
    "    graph = tf.Graph()\n",
    "    with graph.as_default():\n",
    "\n",
    "        # Make all the graphs\n",
    "        beta = tf.compat.v1.placeholder(dtype=tf.float32, shape=())\n",
    "        vid_batch = build_video_batch_graph(batch=batch, tmax=tmax, px=px, py=py, r=r, lt=vid_lt)\n",
    "        s_elbo, s_rec, s_pkl, np_elbo, np_rec, np_pkl, \\\n",
    "            p_m,p_v,q_m,q_v,pred_vid, globs = build_sin_and_np_elbo_graphs2(vid_batch, beta, lt=model_lt)\n",
    "\n",
    "        # The actual loss functions!\n",
    "        if trainelbo==\"SIN\":\n",
    "            loss  = -tf.reduce_mean(s_elbo)\n",
    "            e_elb = tf.reduce_mean(s_elbo)\n",
    "            e_pkl = tf.reduce_mean(s_pkl)\n",
    "            e_rec = tf.reduce_mean(s_rec)\n",
    "        elif trainelbo==\"NP\":\n",
    "            loss  = -tf.reduce_mean(np_elbo)\n",
    "            e_elb = tf.reduce_mean(np_elbo)\n",
    "            e_pkl = tf.reduce_mean(np_pkl)\n",
    "            e_rec = tf.reduce_mean(np_rec)\n",
    "\n",
    "        av_s_elbo = tf.reduce_mean(s_elbo)\n",
    "        av_s_rec  = tf.reduce_mean(s_rec)\n",
    "        av_s_pkl  = tf.reduce_mean(s_pkl)\n",
    "\n",
    "\n",
    "        # Add optimizer ops to graph (minimizing neg elbo!), print out trainable vars\n",
    "        global_step = tf.Variable(0, name='global_step',trainable=False)\n",
    "        optimizer  = tf.compat.v1.train.AdamOptimizer()\n",
    "        train_vars = tf.get_collection(tf.GraphKeys.TRAINABLE_VARIABLES)\n",
    "        optim_step = optimizer.minimize(loss=loss, \n",
    "                                        var_list=train_vars,\n",
    "                                        global_step=global_step)\n",
    "        print(\"\\n\\nTrainable variables:\")\n",
    "        for v in train_vars:\n",
    "            print(v)\n",
    "\n",
    "\n",
    "        # Initializer ops for the graph and saver\n",
    "        init_op = tf.global_variables_initializer()\n",
    "        saver = tf.compat.v1.train.Saver()\n",
    "\n",
    "\n",
    "        # Results to be tracked and Pandas saver\n",
    "        res_vars = [global_step,\n",
    "                    loss,\n",
    "                    av_s_elbo,\n",
    "                    av_s_rec,\n",
    "                    av_s_pkl,\n",
    "                    e_elb,\n",
    "                    e_rec,\n",
    "                    e_pkl,\n",
    "                    tf.math.reduce_min(q_v),\n",
    "                    tf.math.reduce_max(q_v),\n",
    "                    tf.math.reduce_min(p_v),\n",
    "                    tf.math.reduce_max(p_v)]\n",
    "        res_names= [\"Step\",\n",
    "                    \"Loss\",\n",
    "                    \"Test ELBO\",\n",
    "                    \"Test Reconstruction\",\n",
    "                    \"Test Prior KL\",\n",
    "                    \"Train ELBO\",\n",
    "                    \"Train Reconstruction\",\n",
    "                    \"Train Prior KL\",\n",
    "                    \"min qs_var\",\n",
    "                    \"max qs_var\",\n",
    "                    \"min q_var\",\n",
    "                    \"max q_var\",\n",
    "                    \"MSE\",\n",
    "                    \"Beta\",\n",
    "                    \"Time\"]\n",
    "        res_saver = pandas_res_saver(res_file, res_names)\n",
    "\n",
    "        # Now let's start doing some computation!\n",
    "        gpu_options = tf.GPUOptions(per_process_gpu_memory_fraction=0.5)\n",
    "        with tf.Session(config=tf.ConfigProto(gpu_options=gpu_options)) as sess:\n",
    "\n",
    "            # Attempt a restore weights\n",
    "#             try:\n",
    "            saver.restore(sess, tf.train.latest_checkpoint(chkpnt_dir))\n",
    "            print(\"\\n\\nRestored Model Weights\")\n",
    "#             except:\n",
    "#                 sess.run(init_op)\n",
    "#                 print(\"\\n\\nInitialised Model Weights\")\n",
    "\n",
    "            # Start training that elbo!\n",
    "            for t in range(1):\n",
    "\n",
    "                # get training step\n",
    "                g_s = sess.run(global_step, {beta:1.0})\n",
    "\n",
    "                # Print out diagnostics/tracking\n",
    "                TD = video\n",
    "                test_elbo, e_rec_i, e_pkl_i = sess.run([e_elb, e_rec, e_pkl], {vid_batch:TD, beta:1.0})\n",
    "                test_qv, test_pv, test_pm, test_qm = sess.run([q_v, p_v, p_m, q_m], {vid_batch:TD, beta:1.0})\n",
    "\n",
    "                print(str(g_s)+\": elbo \"+str(test_elbo)+\"\\t \"+\"\\t \"+str(e_rec_i)+\"  \"+str(e_pkl_i)+\\\n",
    "                \",\\t\\t qvar range:\\t\",str(test_pv.max()),\"\\t\",str(test_qv.min()) ,\\\n",
    "                \",\\t\\t qmean range:\\t\",str(np.abs(test_pm).max()),\"\\t\",str(np.abs(test_qm).max())  )\n",
    "                \n",
    "                return test_qm\n",
    "\n",
    "\n",
    "                # Save elbo, recon, priorKL....\n",
    "                if False:\n",
    "                    TT, TD = Test_Batches[0]\n",
    "                    p_m_i, p_v_i = sess.run([p_m, p_v], {vid_batch:TD, beta:1})\n",
    "                    _, _, MSE, _ = MSE_rotation(p_m_i, TT, p_v_i)\n",
    "                    new_res = sess.run(res_vars, {vid_batch:TD, beta:1})\n",
    "                    new_res += [MSE, beta_t, time.time()]\n",
    "                    res_saver(new_res)\n",
    "\n",
    "\n",
    "                # Save plot\n",
    "                if False:\n",
    "                    fig, ax = plt.subplots(6,3, figsize=(6, 8))\n",
    "                    TT, TD = Test_Batches[0]\n",
    "                    reconpath, reconvar, reconvid = sess.run([p_m, p_v, pred_vid], {vid_batch:TD, beta:1})\n",
    "                    rp, _, MSE, rv = MSE_rotation(reconpath, TT, reconvar)\n",
    "                    _ = plot_latents(TD, TT, reconvid, rp, rv, ax=ax, nplots=6)\n",
    "                    plt.tight_layout()\n",
    "                    plt.draw()\n",
    "                    # plt.show()\n",
    "                    plt.pause(0.01)\n",
    "                    plt.savefig(pic_folder + str(g_s)+\".pdf\")\n",
    "                    plt.close(fig)\n",
    "\n"
   ]
  },
  {
   "cell_type": "markdown",
   "metadata": {},
   "source": [
    "# Make Web of Points"
   ]
  },
  {
   "cell_type": "code",
   "execution_count": 23,
   "metadata": {},
   "outputs": [
    {
     "name": "stdout",
     "output_type": "stream",
     "text": [
      "(1, 30, 2)\n"
     ]
    }
   ],
   "source": [
    "n_in = 8\n",
    "n_ot = 10\n",
    "\n",
    "x_r = [[0], \n",
    "       np.sin(2*np.pi*np.arange(n_in)/n_in), \n",
    "       2*np.sin(2*np.pi*np.arange(n_ot)/n_ot)]\n",
    "x_r = np.concatenate(x_r)\n",
    "\n",
    "y_r = [[0], \n",
    "       np.cos(2*np.pi*np.arange(n_in)/n_in), \n",
    "       2*np.cos(2*np.pi*np.arange(n_ot)/n_ot)]\n",
    "y_r = np.concatenate(y_r)\n",
    "\n",
    "traj0 = np.vstack([x_r, y_r]).T\n",
    "\n",
    "traj00 = np.concatenate([traj0, traj0], axis=0)\n",
    "traj00 = traj00[:30,:].reshape((1,30,2))\n",
    "\n",
    "print(traj00.shape)\n",
    "       "
   ]
  },
  {
   "cell_type": "code",
   "execution_count": 24,
   "metadata": {},
   "outputs": [
    {
     "name": "stdout",
     "output_type": "stream",
     "text": [
      "(30, 32, 32)\n",
      "(1, 30, 32, 32)\n"
     ]
    },
    {
     "data": {
      "image/png": "[encoded data removed]",
      "text/plain": [
       "<Figure size 432x288 with 1 Axes>"
      ]
     },
     "metadata": {
      "needs_background": "light"
     },
     "output_type": "display_data"
    }
   ],
   "source": [
    "px = 32\n",
    "py = 32\n",
    "r = 3\n",
    "\n",
    "\n",
    "def pixelate_frame(xy):\n",
    "    \"\"\"\n",
    "    takes a single x,y pixel point and converts to binary image\n",
    "    with ball centered at x,y.\n",
    "    \"\"\"\n",
    "    rr = r*r\n",
    "    x = xy[0]\n",
    "    y = xy[1]\n",
    "\n",
    "    sq_x = (np.arange(px) - x)**2\n",
    "    sq_y = (np.arange(py) - y)**2\n",
    "\n",
    "    sq = sq_x.reshape(1,-1) + sq_y.reshape(-1,1)\n",
    "\n",
    "    image = 1*(sq < rr)\n",
    "\n",
    "    return image\n",
    "\n",
    "\n",
    "def pixelate_series(traj0):\n",
    "    XY = traj0.copy()\n",
    "    \n",
    "    # convert trajectories to pixel dims\n",
    "    XY[:,0] = XY[:,0] * (px/5) + (0.5*px)\n",
    "    XY[:,1] = XY[:,1] * (py/5) + (0.5*py)\n",
    "    \n",
    "\n",
    "    \n",
    "\n",
    "    vid = map(pixelate_frame, XY)\n",
    "    vid = [v for v in vid]\n",
    "    return np.asarray(vid)\n",
    "\n",
    "\n",
    "def make_heatmap(vid):\n",
    "    \"\"\"\n",
    "    args:\n",
    "        vid: tmax, px, py\n",
    "    returns:\n",
    "        flat_vid: px, py\n",
    "    \"\"\"\n",
    "    vid = np.array([(t+4)*v for t,v in enumerate(vid)])\n",
    "    flat_vid = np.max(vid, 0)*(1/(4+30))\n",
    "    return flat_vid\n",
    "    \n",
    "\n",
    "V = pixelate_series(traj00[0,:,:])\n",
    "print(V.shape)\n",
    "\n",
    "import matplotlib.pyplot as plt\n",
    "plt.imshow(make_heatmap(V))\n",
    "\n",
    "V = V.reshape((1,30,32,32))\n",
    "print(V.shape)"
   ]
  },
  {
   "cell_type": "code",
   "execution_count": 25,
   "metadata": {},
   "outputs": [
    {
     "name": "stdout",
     "output_type": "stream",
     "text": [
      "\n",
      "\n",
      "Trainable variables:\n",
      "<tf.Variable 'encW:0' shape=(1024, 500) dtype=float32_ref>\n",
      "<tf.Variable 'encB:0' shape=(1, 500) dtype=float32_ref>\n",
      "<tf.Variable 'encW_1:0' shape=(500, 4) dtype=float32_ref>\n",
      "<tf.Variable 'encB_1:0' shape=(1, 4) dtype=float32_ref>\n",
      "<tf.Variable 'decW:0' shape=(2, 500) dtype=float32_ref>\n",
      "<tf.Variable 'decB:0' shape=(1, 500) dtype=float32_ref>\n",
      "<tf.Variable 'decW_1:0' shape=(500, 1024) dtype=float32_ref>\n",
      "<tf.Variable 'decB_1:0' shape=(1, 1024) dtype=float32_ref>\n",
      "res_file: recovered \n",
      "INFO:tensorflow:Restoring parameters from /run/user/1000/gvfs/sftp:host=godzilla/home/maths/phrnaj/GPVAE_checkpoints/Ayman2/6:SIN_1__on__14_10_2019__at__15:41:55/model-50000\n",
      "\n",
      "\n",
      "Restored Model Weights\n",
      "50000: elbo -8772.639\t \t -6593.655  -2178.9844,\t\t qvar range:\t 0.00054425 \t 0.00014875675 ,\t\t qmean range:\t 3.1781127 \t 3.4309077\n",
      "(1, 30, 2)\n"
     ]
    },
    {
     "data": {
      "text/plain": [
       "[<matplotlib.lines.Line2D at 0x7fb78a9e9f60>]"
      ]
     },
     "execution_count": 25,
     "metadata": {},
     "output_type": "execute_result"
    },
    {
     "data": {
      "image/png": "[encoded data removed]",
      "text/plain": [
       "<Figure size 432x288 with 1 Axes>"
      ]
     },
     "metadata": {
      "needs_background": "light"
     },
     "output_type": "display_data"
    }
   ],
   "source": [
    "qnet_m = get_qnet(V)\n",
    "print(qnet_m.shape)\n",
    "\n",
    "\n",
    "rot_qnet, _, _, _ = MSE_rotation(qnet_m, traj00)\n",
    "\n",
    "plt.scatter(rot_qnet[0,:,0],rot_qnet[0,:,1])\n",
    "plt.scatter(traj0[:,0],traj0[:,1])\n",
    "\n",
    "plt.plot(rot_qnet[0,1:9,0], rot_qnet[0,1:9,1], color='blue')\n",
    "plt.plot(rot_qnet[0,9:19,0], rot_qnet[0,9:19,1],color='blue')\n",
    "\n",
    "plt.plot(traj0[1:9,0], traj0[1:9,1], color='orange')\n",
    "plt.plot(traj0[9:19,0], traj0[9:19,1],color='orange')\n"
   ]
  },
  {
   "cell_type": "code",
   "execution_count": 17,
   "metadata": {},
   "outputs": [
    {
     "data": {
      "text/plain": [
       "array([1])"
      ]
     },
     "execution_count": 17,
     "metadata": {},
     "output_type": "execute_result"
    }
   ],
   "source": [
    "A = np.arange(10)\n",
    "A[1:2]"
   ]
  }
 ],
 "metadata": {
  "kernelspec": {
   "display_name": "Python [conda env:TFgpu] *",
   "language": "python",
   "name": "conda-env-TFgpu-py"
  },
  "language_info": {
   "codemirror_mode": {
    "name": "ipython",
    "version": 3
   },
   "file_extension": ".py",
   "mimetype": "text/x-python",
   "name": "python",
   "nbconvert_exporter": "python",
   "pygments_lexer": "ipython3",
   "version": "3.6.9"
  }
 },
 "nbformat": 4,
 "nbformat_minor": 2
}
